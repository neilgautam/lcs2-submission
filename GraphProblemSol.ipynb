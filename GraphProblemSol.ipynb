{
  "nbformat": 4,
  "nbformat_minor": 0,
  "metadata": {
    "colab": {
      "provenance": []
    },
    "kernelspec": {
      "name": "python3",
      "display_name": "Python 3"
    },
    "language_info": {
      "name": "python"
    }
  },
  "cells": [
    {
      "cell_type": "code",
      "execution_count": 2,
      "metadata": {
        "id": "WE9XLFmXLJL4"
      },
      "outputs": [],
      "source": [
        "import torch\n",
        "import torch.nn as nn\n",
        "import numpy as np\n",
        "import torch.optim as optim\n",
        "from torch.nn.parameter import Parameter\n",
        "import torch.nn.functional as F\n",
        "import warnings\n",
        "warnings.filterwarnings(\"ignore\")"
      ]
    },
    {
      "cell_type": "markdown",
      "source": [
        "### Manual Spectral Graph Layer \n",
        "##### 1.) N/V --> Number of Vertex in the Graph\n",
        "##### 2.) E --> Number of Edges in the Graph\n",
        "##### 3.) W --> Weighted Adjacency Matrix Shape: [N, N]\n",
        "##### 4.) A signal X: V  --> R defined on the ndes of the graph may be regarded as a vector\n",
        "\n",
        "##### 5.) An essential operator in spectral graph analysis is the graph Laplacian, which is represented as L = D-W, where each of matrix has a shape of [N, N], \n",
        "###### 5.1) D: Node degree matrix [It will be a diagonal matrix representing the number of degree of each node]\n",
        "###### 5.2) W: This is the weighted adjacency matrix. \n",
        "\n",
        "##### 6.) The normalized laplacian matrix is represented as L = I- D^-0.5*W*D^-0.5 where I is the identity matrix. \n",
        "\n",
        "##### 7.) L has a complete set of orthonormal eigenvectors\n"
      ],
      "metadata": {
        "id": "4CpI3uf455P5"
      }
    },
    {
      "cell_type": "code",
      "source": [
        "class ManualSpectralGraphLayer(nn.Module):\n",
        "\n",
        "    def __init__(self, input_dim, output_dim, k = 0, bias = True):\n",
        "        super(ManualSpectralGraphLayer, self).__init__()\n",
        "        self.k = k\n",
        "        self.weight = Parameter(torch.FloatTensor(input_dim, output_dim))\n",
        "        # K represents the number of Hops \n",
        "        self.bias= bias\n",
        "        if self.bias == True:\n",
        "            self.bias = Parameter(torch.FloatTensor(output_dim))\n",
        "    \n",
        "    def tilda(self, mat, max):\n",
        "        mat = mat/max - torch.eye(mat.shape[0])\n",
        "        return mat\n",
        "    \n",
        "    def laplace(self, adj):\n",
        "        # this function calculates the normalized laplacian matrix. \n",
        "        degree_mat = torch.sum(adj, dim = 1)\n",
        "        eye_ = torch.eye(adj.shape[0])\n",
        "        adj_norm = eye_ - degree_mat.pow(-0.5)@adj@degree_mat.pow(-0.5)\n",
        "        return adj_norm\n",
        "\n",
        "    def forward(self, adj):\n",
        "\n",
        "        output_torch = torch.empty([self.k, adj.shape[0], adj.shape[0]])\n",
        "        eigenval, eigenvec = torch.linalg.eig(adj)\n",
        "        max_eigen_val = max(eigenval)\n",
        "        if self.k == 0:\n",
        "            # In case if k = 0, then direct input has to be fed in the output_torch\n",
        "            output_torch[0] = adj\n",
        "        elif self.k == 1:\n",
        "            # in case if k= 1, then direct input and Lx\n",
        "            output_torch[0] = adj\n",
        "            output_torch[1] = self.laplace(adj) @ adj\n",
        "        elif self.k > 1:\n",
        "            output_torch[0] = adj\n",
        "            output_torch[1] = self.laplace(adj) @ adj\n",
        "            for i in range(2, self.k):\n",
        "              output_torch[i] = 2 * self.laplace(adj) @ output_torch[i-1] - output_torch[i-2]\n",
        "\n",
        "        output = output_torch @ self.weight\n",
        "        if self.bias :\n",
        "            output = output + self.bias\n",
        "        \n",
        "        return output\n",
        "        "
      ],
      "metadata": {
        "id": "Nost-wDTVl8i"
      },
      "execution_count": null,
      "outputs": []
    },
    {
      "cell_type": "code",
      "source": [
        "torch.empty([1,3])"
      ],
      "metadata": {
        "id": "sDtbcL2ychee",
        "colab": {
          "base_uri": "https://localhost:8080/"
        },
        "outputId": "862674b2-86f1-407e-d76b-b4830765092d"
      },
      "execution_count": 5,
      "outputs": [
        {
          "output_type": "execute_result",
          "data": {
            "text/plain": [
              "tensor([[-1.1215e+36,  4.5857e-41, -1.1215e+36]])"
            ]
          },
          "metadata": {},
          "execution_count": 5
        }
      ]
    },
    {
      "cell_type": "code",
      "source": [],
      "metadata": {
        "id": "h2gEGZvrjZo_"
      },
      "execution_count": null,
      "outputs": []
    }
  ]
}